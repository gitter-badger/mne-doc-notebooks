{
 "cells": [
  {
   "cell_type": "markdown",
   "metadata": {},
   "source": [
    "# Overview of MNE-Python's data structures"
   ]
  },
  {
   "cell_type": "code",
   "execution_count": 69,
   "metadata": {
    "collapsed": false
   },
   "outputs": [],
   "source": [
    "import mne\n",
    "import os.path as op\n",
    "from __future__ import print_function\n",
    "import numpy as np"
   ]
  },
  {
   "cell_type": "markdown",
   "metadata": {},
   "source": [
    "## `Info`: recording information\n",
    "The `Info` data object is created when data is imported into MNE-Python and contains details such as:\n",
    "\n",
    " - date, subject information, and other recording details\n",
    " - the samping rate\n",
    " - information about the data channels (name, type, position, etc.)\n",
    " - digitized points\n",
    " - sensor–head coordinate transformation matrices\n",
    "\n",
    "and so forth. See the [reference documentation]() for a complete list of all data fields. Once created, this object is passed around throughout the data analysis pipeline.\n",
    "\n",
    "It behaves as a nested Python dictionary:"
   ]
  },
  {
   "cell_type": "code",
   "execution_count": 60,
   "metadata": {
    "collapsed": false
   },
   "outputs": [
    {
     "name": "stdout",
     "output_type": "stream",
     "text": [
      "Opening raw data file /Users/rodin/BRU/mne-python/examples/MNE-sample-data/MEG/sample/sample_audvis_raw.fif...\n",
      "    Read a total of 3 projection items:\n",
      "        PCA-v1 (1 x 102)  idle\n",
      "        PCA-v2 (1 x 102)  idle\n",
      "        PCA-v3 (1 x 102)  idle\n",
      "Current compensation grade : 0\n",
      "    Range : 25800 ... 192599 =     42.956 ...   320.670 secs\n",
      "Ready.\n",
      "Adding average EEG reference projection.\n",
      "1 projection items deactivated\n",
      "['acq_stim', 'ch_names', 'lowpass', 'buffer_size_sec', 'hpi_results', 'dev_ctf_t', 'projs', 'meas_date', 'meas_id', 'subject_info', 'sfreq', 'filename', 'chs', 'events', 'dev_head_t', 'line_freq', 'proj_id', 'description', 'highpass', 'hpi_subsystem', 'comps', 'custom_ref_applied', 'experimenter', 'file_id', 'proj_name', 'nchan', 'bads', 'hpi_meas', 'dig', 'ctf_head_t', 'acq_pars']\n"
     ]
    }
   ],
   "source": [
    "# Load an example dataset, which of course contains an info object \n",
    "raw = mne.io.RawFIF(op.join(mne.datasets.sample.data_path(), 'MEG', 'sample', 'sample_audvis_raw.fif'))\n",
    "\n",
    "# List all the fields in the info object\n",
    "print(raw.info.keys())"
   ]
  },
  {
   "cell_type": "code",
   "execution_count": 17,
   "metadata": {
    "collapsed": false
   },
   "outputs": [
    {
     "name": "stdout",
     "output_type": "stream",
     "text": [
      "600.614990234 Hz\n"
     ]
    }
   ],
   "source": [
    "# Obtain the sampling rate of the data\n",
    "print(raw.info['sfreq'], 'Hz')"
   ]
  },
  {
   "cell_type": "code",
   "execution_count": 18,
   "metadata": {
    "collapsed": false
   },
   "outputs": [
    {
     "name": "stdout",
     "output_type": "stream",
     "text": [
      "{'loc': array([-0.1066    ,  0.0464    , -0.0604    , -0.0127    ,  0.0057    ,\n",
      "       -0.99990302, -0.186801  , -0.98240298, -0.0033    , -0.98232698,\n",
      "        0.18674099,  0.013541  ], dtype=float32), 'kind': 1, 'unit_mul': 0, 'coil_trans': array([[-0.0127    , -0.186801  , -0.98232698, -0.1066    ],\n",
      "       [ 0.0057    , -0.98240298,  0.18674099,  0.0464    ],\n",
      "       [-0.99990302, -0.0033    ,  0.013541  , -0.0604    ],\n",
      "       [ 0.        ,  0.        ,  0.        ,  1.        ]]), 'ch_name': 'MEG 0113', 'coil_type': 3012, 'coord_frame': 1, 'logno': 113, 'cal': 3.1600000394149674e-09, 'eeg_loc': None, 'range': 0.00030517578125, 'scanno': 1, 'unit': 201}\n"
     ]
    }
   ],
   "source": [
    "# List all information about the first data channel\n",
    "print(raw.info['chs'][0])"
   ]
  },
  {
   "cell_type": "markdown",
   "metadata": {},
   "source": [
    "### Creating custom `Info` objects\n",
    "\n",
    "Normally, `Info` objects are created by the various [data import functions](http://martinos.org/mne/dev/python_reference.html#reading-raw-data). However, if you wish to create one from scratch, you can use the [`create_info`](http://martinos.org/mne/stable/generated/mne.create_info.html#mne.create_info) function to initialize the minimally required fields. Further fields can be assigned later as one would with a regular dictionary."
   ]
  },
  {
   "cell_type": "code",
   "execution_count": 56,
   "metadata": {
    "collapsed": false
   },
   "outputs": [
    {
     "name": "stdout",
     "output_type": "stream",
     "text": [
      "<Info | 14 non-empty fields\n",
      "    bads : list | EEG2\n",
      "    ch_names : list | MEG1, MEG2, EEG1, EEG2, EOG\n",
      "    chs : list | 5 items (EOG: 1, EEG: 2, GRAD: 2)\n",
      "    comps : list | 0 items\n",
      "    custom_ref_applied : bool | False\n",
      "    description : str | 17 items\n",
      "    dev_head_t : dict | 3 items\n",
      "    events : list | 0 items\n",
      "    hpi_meas : list | 0 items\n",
      "    hpi_results : list | 0 items\n",
      "    meas_date : numpy.ndarray | 1970-01-01 01:00:00\n",
      "    nchan : int | 5\n",
      "    projs : list | 0 items\n",
      "    sfreq : float | 1000.0\n",
      "    acq_pars : NoneType\n",
      "    acq_stim : NoneType\n",
      "    ctf_head_t : NoneType\n",
      "    dev_ctf_t : NoneType\n",
      "    dig : NoneType\n",
      "    experimenter : NoneType\n",
      "    file_id : NoneType\n",
      "    filename : NoneType\n",
      "    highpass : NoneType\n",
      "    hpi_subsystem : NoneType\n",
      "    line_freq : NoneType\n",
      "    lowpass : NoneType\n",
      "    meas_id : NoneType\n",
      "    proj_id : NoneType\n",
      "    proj_name : NoneType\n",
      "    subject_info : NoneType\n",
      ">\n"
     ]
    }
   ],
   "source": [
    "# Names for each channel\n",
    "channel_names = ['MEG1', 'MEG2', 'EEG1', 'EEG2', 'EOG']\n",
    "\n",
    "# The type (mag, grad, eeg, eog, misc, ...) of each channel\n",
    "channel_types = ['grad', 'grad', 'eeg', 'eeg', 'eog']\n",
    "\n",
    "# The sampling rate of the recording\n",
    "sfreq = 1000  # in Hertz\n",
    "\n",
    "# Initialize required fields\n",
    "info = mne.create_info(channel_names, sfreq, channel_types)\n",
    "\n",
    "# Add some more information\n",
    "info['description'] = 'My custom dataset'\n",
    "info['bads'] = ['EEG2']  # Names of bad channels\n",
    "\n",
    "print(info)"
   ]
  },
  {
   "cell_type": "markdown",
   "metadata": {},
   "source": [
    "## `Raw`: continuous data\n",
    "\n",
    "Continuous data is stored in objects of type `Raw`. The core data structure is simply a 2D numpy array (channels × samples, `._data`) combined with an `Info` object (`.info`). The data matrix becomes available when the data is loaded:"
   ]
  },
  {
   "cell_type": "code",
   "execution_count": 63,
   "metadata": {
    "collapsed": false
   },
   "outputs": [
    {
     "name": "stdout",
     "output_type": "stream",
     "text": [
      "Opening raw data file /Users/rodin/BRU/mne-python/examples/MNE-sample-data/MEG/sample/sample_audvis_raw.fif...\n",
      "    Read a total of 3 projection items:\n",
      "        PCA-v1 (1 x 102)  idle\n",
      "        PCA-v2 (1 x 102)  idle\n",
      "        PCA-v3 (1 x 102)  idle\n",
      "Current compensation grade : 0\n",
      "    Range : 25800 ... 192599 =     42.956 ...   320.670 secs\n",
      "Ready.\n",
      "Adding average EEG reference projection.\n",
      "1 projection items deactivated\n",
      "Reading 0 ... 166799  =      0.000 ...   277.714 secs...\n",
      "[done]\n",
      "channels x samples: (376, 166800)\n"
     ]
    }
   ],
   "source": [
    "# Load an example dataset\n",
    "raw = mne.io.RawFIF(op.join(mne.datasets.sample.data_path(), 'MEG', 'sample', 'sample_audvis_raw.fif'), preload=True)\n",
    "\n",
    "# Give the size of the data matrix\n",
    "print('channels x samples:', raw._data.shape)"
   ]
  },
  {
   "cell_type": "markdown",
   "metadata": {},
   "source": [
    "### Creating custom `Raw` objects"
   ]
  },
  {
   "cell_type": "markdown",
   "metadata": {},
   "source": [
    "To create a `Raw` object from scratch, you can use the `RawArray` class, which implements raw data that is backed by a numpy array. Its constructor simply takes the data matrix and `Info` object:"
   ]
  },
  {
   "cell_type": "code",
   "execution_count": 70,
   "metadata": {
    "collapsed": false
   },
   "outputs": [
    {
     "name": "stdout",
     "output_type": "stream",
     "text": [
      "Creating RawArray with float64 data, n_channels=5, n_times=1000\n",
      "    Range : 0 ... 999 =      0.000 ...     9.990 secs\n",
      "Ready.\n",
      "<RawArray  |  n_channels x n_times : 5 x 1000>\n"
     ]
    }
   ],
   "source": [
    "# Generate some random data\n",
    "data = np.random.randn(5, 1000)\n",
    "\n",
    "# Initialize an info structure\n",
    "info = mne.create_info(\n",
    "    ch_names=['MEG1', 'MEG2', 'EEG1', 'EEG2', 'EOG'],\n",
    "    ch_types=['grad', 'grad', 'eeg', 'eeg', 'eog'],\n",
    "    sfreq=100\n",
    ")\n",
    "\n",
    "custom_raw = mne.io.RawArray(data, info)\n",
    "print(custom_raw)"
   ]
  },
  {
   "cell_type": "markdown",
   "metadata": {},
   "source": [
    "## `Epochs`: epoched data\n",
    "\n",
    "The `Epochs` object wraps a `Raw` object and exposes the underlying data as epochs. The data is represented as a 3D numpy array (epochs × channels × samples), combined with information about the events and the usual `Info` structure.\n",
    "\n",
    "Information about the events is given with a combination of an `event` matrix and `event_id` dictionary. The matrix has three columns that denote the event onset (in samples), duration (in samples) and code (integer number) respectively. This matrix is usually constructed from a status channel through the [`find_events`](http://martinos.org/mne/stable/generated/mne.find_events.html#mne.find_events) function. The dictionary assigns descriptive labels to the event codes that are of interest and is usually specified manually."
   ]
  },
  {
   "cell_type": "code",
   "execution_count": 81,
   "metadata": {
    "collapsed": false
   },
   "outputs": [
    {
     "name": "stdout",
     "output_type": "stream",
     "text": [
      "Opening raw data file /Users/rodin/BRU/mne-python/examples/MNE-sample-data/MEG/sample/sample_audvis_raw.fif...\n",
      "    Read a total of 3 projection items:\n",
      "        PCA-v1 (1 x 102)  idle\n",
      "        PCA-v2 (1 x 102)  idle\n",
      "        PCA-v3 (1 x 102)  idle\n",
      "Current compensation grade : 0\n",
      "    Range : 25800 ... 192599 =     42.956 ...   320.670 secs\n",
      "Ready.\n",
      "Adding average EEG reference projection.\n",
      "1 projection items deactivated\n",
      "Reading 0 ... 166799  =      0.000 ...   277.714 secs...\n",
      "[done]\n",
      "320 events found\n",
      "Events id: [ 1  2  3  4  5 32]\n",
      "Number of events: 320\n",
      "Unique event codes: [ 1  2  3  4  5 32]\n",
      "145 matching events found\n",
      "Created an SSP operator (subspace dimension = 4)\n",
      "4 projection items activated\n",
      "<Epochs  |  n_events : 145 (good & bad), tmin : -0.1 (s), tmax : 1 (s), baseline : (None, 0),\n",
      " 'left': 72, 'right': 73>\n"
     ]
    }
   ],
   "source": [
    "# Load a dataset that contains events\n",
    "raw = mne.io.RawFIF(op.join(mne.datasets.sample.data_path(), 'MEG', 'sample', 'sample_audvis_raw.fif'))\n",
    "\n",
    "# Construct the event matrix from the status channel in the recording\n",
    "events = mne.find_events(raw)\n",
    "\n",
    "# Show the number of events (number of rows)\n",
    "print('Number of events:', len(events))\n",
    "\n",
    "# Show all unique event codes (3rd column)\n",
    "print('Unique event codes:', np.unique(events[:, 2]))\n",
    "\n",
    "# Specify event codes of interest with descriptive labels\n",
    "event_id = dict(left=1, right=2)\n",
    "\n",
    "# Expose the raw data as epochs, cut from -0.1 s to 1.0 s relative to the event onsets \n",
    "epochs = mne.Epochs(raw, events, event_id, tmin=-0.1, tmax=1)\n",
    "print(epochs)"
   ]
  },
  {
   "cell_type": "markdown",
   "metadata": {},
   "source": [
    "### Creating custom `Epochs` objects\n",
    "\n",
    "To create an `Epochs` object from scratch, you can use the `EpochsArray` class, which uses a numpy array directly without wrapping a raw object."
   ]
  },
  {
   "cell_type": "code",
   "execution_count": 86,
   "metadata": {
    "collapsed": false
   },
   "outputs": [
    {
     "name": "stdout",
     "output_type": "stream",
     "text": [
      "10 matching events found\n",
      "Adding average EEG reference projection.\n",
      "Created an SSP operator (subspace dimension = 1)\n",
      "1 projection items activated\n",
      "No baseline correction applied...\n",
      "No baseline correction applied...\n",
      "No baseline correction applied...\n",
      "No baseline correction applied...\n",
      "No baseline correction applied...\n",
      "No baseline correction applied...\n",
      "No baseline correction applied...\n",
      "No baseline correction applied...\n",
      "No baseline correction applied...\n",
      "No baseline correction applied...\n",
      "0 bad epochs dropped\n",
      "<EpochsArray  |  n_events : 10 (all good), tmin : -0.1 (s), tmax : 1.0 (s), baseline : None,\n",
      " 'frowning': 5, 'smiling': 5>\n"
     ]
    }
   ],
   "source": [
    "# Generate some random data: 10 epochs, 5 channels, 111 samples per epoch\n",
    "data = np.random.randn(10, 5, 111)\n",
    "\n",
    "# Initialize an info structure\n",
    "info = mne.create_info(\n",
    "    ch_names=['MEG1', 'MEG2', 'EEG1', 'EEG2', 'EOG'],\n",
    "    ch_types=['grad', 'grad', 'eeg', 'eeg', 'eog'],\n",
    "    sfreq=100\n",
    ")\n",
    "\n",
    "# Create an event matrix: 10 events with a duration of 1 sample, alternating event codes\n",
    "events = np.array([\n",
    "    [0, 1, 1],\n",
    "    [1, 1, 2],\n",
    "    [2, 1, 1],\n",
    "    [3, 1, 2],       \n",
    "    [4, 1, 1],\n",
    "    [5, 1, 2],\n",
    "    [6, 1, 1],\n",
    "    [7, 1, 2],\n",
    "    [8, 1, 1],\n",
    "    [9, 1, 2],\n",
    "])\n",
    "\n",
    "# More information about the event codes: subject was either smiling or frowning\n",
    "event_id = dict(smiling=1, frowning=2)\n",
    "\n",
    "# Trials were cut from -0.1 to 1.0 seconds\n",
    "tmin = -0.1\n",
    "\n",
    "# Create epochs object\n",
    "custom_epochs = mne.EpochsArray(data, info, events, tmin, event_id)\n",
    "print(custom_epochs)"
   ]
  },
  {
   "cell_type": "markdown",
   "metadata": {},
   "source": [
    "## `Evoked`: Evoked potential\n",
    "The result of averaging epochs, known as the evoked or event-related potential, is stored in an `Evoked` object."
   ]
  },
  {
   "cell_type": "markdown",
   "metadata": {},
   "source": [
    "## `STC`: Source space representation (cortex only)\n",
    "\n",
    "The inverse solution, computed by the various source estimation algorithms, is stored as an `STC` object."
   ]
  },
  {
   "cell_type": "markdown",
   "metadata": {},
   "source": [
    "## Source space (volumetric)"
   ]
  },
  {
   "cell_type": "markdown",
   "metadata": {},
   "source": [
    "## Dipole fit"
   ]
  },
  {
   "cell_type": "code",
   "execution_count": null,
   "metadata": {
    "collapsed": true
   },
   "outputs": [],
   "source": []
  }
 ],
 "metadata": {
  "kernelspec": {
   "display_name": "Python 2",
   "language": "python",
   "name": "python2"
  },
  "language_info": {
   "codemirror_mode": {
    "name": "ipython",
    "version": 2
   },
   "file_extension": ".py",
   "mimetype": "text/x-python",
   "name": "python",
   "nbconvert_exporter": "python",
   "pygments_lexer": "ipython2",
   "version": "2.7.10"
  }
 },
 "nbformat": 4,
 "nbformat_minor": 0
}
